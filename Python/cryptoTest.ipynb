{
 "cells": [
  {
   "cell_type": "code",
   "execution_count": 2,
   "metadata": {},
   "outputs": [
    {
     "name": "stdout",
     "output_type": "stream",
     "text": [
      "b'KS\\x15k\\x1c\\x00!\\xe5\\xae;r\\xf7\\x06\\xb3\\x93\\x14'\n",
      "b'\\xb6^\\xe3Sy\\x08\\\\`\\x9c\\x9b\\x9eB\\xf3<.\\x08'\n",
      "b'admin'\n"
     ]
    }
   ],
   "source": [
    "import os\n",
    "from cryptography.hazmat.primitives import padding\n",
    "from cryptography.hazmat.primitives.ciphers import Cipher, algorithms, modes\n",
    "from cryptography.hazmat.backends import default_backend\n",
    "from base64 import b64encode, b64decode\n",
    "from Crypto.Cipher import AES\n",
    "\n",
    "class AESCipherCBC:\n",
    "    def __init__(self, key):\n",
    "        if len(key) not in [16, 24, 32]:\n",
    "            raise ValueError(\"AES key must be either 16, 24, or 32 bytes long\")\n",
    "        self.key = key\n",
    "        self.iv = os.urandom(16)  # 随机生成初始化向量\n",
    "        self.backend = default_backend()\n",
    "\n",
    "    def encrypt(self, plaintext):\n",
    "        padder = padding.PKCS7(128).padder()\n",
    "        padded_data = padder.update(plaintext) + padder.finalize()\n",
    "\n",
    "        cipher = Cipher(\n",
    "            algorithms.AES(self.key), modes.CBC(self.iv), backend=self.backend\n",
    "        )\n",
    "        encryptor = cipher.encryptor()\n",
    "        cipher_text = encryptor.update(padded_data) + encryptor.finalize()\n",
    "\n",
    "        return b64encode(self.iv + cipher_text)\n",
    "\n",
    "    def decrypt(self, cipher_text):\n",
    "        data = b64decode(cipher_text)\n",
    "        iv = data[:16]\n",
    "        cipher_text = data[16:]\n",
    "        print(iv)\n",
    "        print(cipher_text)\n",
    "        aes = AES.new(self.key,AES.MODE_CBC,iv) \n",
    "        # cipher = Cipher(algorithms.AES(self.key), modes.CBC(iv), backend=self.backend)\n",
    "        # decryptor = cipher.decryptor()\n",
    "        # decrypted_data = decryptor.update(cipher_text) + decryptor.finalize()\n",
    "\n",
    "        data = aes.decrypt(cipher_text)\n",
    "        # print(data)\n",
    "        paddingSize = data[-1]\n",
    "        unpadded_data=print(data.rstrip(paddingSize.to_bytes(1, \"little\")))\n",
    "\n",
    "        # unpadder = padding.PKCS7(256).unpadder()\n",
    "        # unpadded_data = unpadder.update(decrypted_data) + unpadder.finalize()\n",
    "\n",
    "        return unpadded_data\n",
    "\n",
    "a = AESCipherCBC(b\"aB9lM7xWt8zR2uQv\")\n",
    "a.decrypt(\"S1MVaxwAIeWuO3L3BrOTFLZe41N5CFxgnJueQvM8Lgg=\")"
   ]
  },
  {
   "cell_type": "code",
   "execution_count": 3,
   "metadata": {},
   "outputs": [
    {
     "data": {
      "text/plain": [
       "b'2VtJ5pcqhIl68WI/97akc7Wq07N9t23AbhKgEnRIZSAke7AbAqNMM+jIl65iMeWE'"
      ]
     },
     "execution_count": 3,
     "metadata": {},
     "output_type": "execute_result"
    }
   ],
   "source": [
    "a.encrypt(b'aaaaaaaaaaaaaaaaaaa')"
   ]
  },
  {
   "cell_type": "code",
   "execution_count": 4,
   "metadata": {},
   "outputs": [
    {
     "ename": "Error",
     "evalue": "Incorrect padding",
     "output_type": "error",
     "traceback": [
      "\u001b[1;31m---------------------------------------------------------------------------\u001b[0m",
      "\u001b[1;31mError\u001b[0m                                     Traceback (most recent call last)",
      "Cell \u001b[1;32mIn[4], line 1\u001b[0m\n\u001b[1;32m----> 1\u001b[0m \u001b[43ma\u001b[49m\u001b[38;5;241;43m.\u001b[39;49m\u001b[43mdecrypt\u001b[49m\u001b[43m(\u001b[49m\n\u001b[0;32m      2\u001b[0m \u001b[43m    \u001b[49m\u001b[38;5;124;43mb\u001b[39;49m\u001b[38;5;124;43m'\u001b[39;49m\u001b[38;5;130;43;01m\\xf0\u001b[39;49;00m\u001b[38;5;130;43;01m\\xf3\u001b[39;49;00m\u001b[38;5;130;43;01m\\xcf\u001b[39;49;00m\u001b[38;5;124;43mn\u001b[39;49m\u001b[38;5;130;43;01m\\xc1\u001b[39;49;00m\u001b[38;5;124;43mpz\u001b[39;49m\u001b[38;5;130;43;01m\\x16\u001b[39;49;00m\u001b[38;5;130;43;01m\\xde\u001b[39;49;00m\u001b[38;5;124;43m4\u001b[39;49m\u001b[38;5;130;43;01m\\x86\u001b[39;49;00m\u001b[38;5;130;43;01m\\xdb\u001b[39;49;00m\u001b[38;5;130;43;01m\\xd2\u001b[39;49;00m\u001b[38;5;130;43;01m\\x17\u001b[39;49;00m\u001b[38;5;130;43;01m\\x14\u001b[39;49;00m\u001b[38;5;124;43mq\u001b[39;49m\u001b[38;5;130;43;01m\\xb7\u001b[39;49;00m\u001b[38;5;130;43;01m\\xdc\u001b[39;49;00m\u001b[38;5;130;43;01m\\x9f\u001b[39;49;00m\u001b[38;5;130;43;01m\\xc7\u001b[39;49;00m\u001b[38;5;130;43;01m\\x0f\u001b[39;49;00m\u001b[38;5;124;43m3\u001b[39;49m\u001b[38;5;124;43m\"\u001b[39;49m\u001b[38;5;130;43;01m\\x0e\u001b[39;49;00m\u001b[38;5;124;43m]\u001b[39;49m\u001b[38;5;130;43;01m\\x92\u001b[39;49;00m\u001b[38;5;130;43;01m\\x9a\u001b[39;49;00m\u001b[38;5;130;43;01m\\xd8\u001b[39;49;00m\u001b[38;5;130;43;01m\\xed\u001b[39;49;00m\u001b[38;5;130;43;01m\\x0c\u001b[39;49;00m\u001b[38;5;124;43m,4\u001b[39;49m\u001b[38;5;124;43m'\u001b[39;49m\n\u001b[0;32m      3\u001b[0m \u001b[43m)\u001b[49m\n",
      "Cell \u001b[1;32mIn[2], line 29\u001b[0m, in \u001b[0;36mAESCipherCBC.decrypt\u001b[1;34m(self, cipher_text)\u001b[0m\n\u001b[0;32m     28\u001b[0m \u001b[38;5;28;01mdef\u001b[39;00m \u001b[38;5;21mdecrypt\u001b[39m(\u001b[38;5;28mself\u001b[39m, cipher_text):\n\u001b[1;32m---> 29\u001b[0m     data \u001b[38;5;241m=\u001b[39m \u001b[43mb64decode\u001b[49m\u001b[43m(\u001b[49m\u001b[43mcipher_text\u001b[49m\u001b[43m)\u001b[49m\n\u001b[0;32m     30\u001b[0m     iv \u001b[38;5;241m=\u001b[39m data[:\u001b[38;5;241m16\u001b[39m]\n\u001b[0;32m     31\u001b[0m     cipher_text \u001b[38;5;241m=\u001b[39m data[\u001b[38;5;241m16\u001b[39m:]\n",
      "File \u001b[1;32md:\\anaconda\\lib\\base64.py:87\u001b[0m, in \u001b[0;36mb64decode\u001b[1;34m(s, altchars, validate)\u001b[0m\n\u001b[0;32m     85\u001b[0m \u001b[38;5;28;01mif\u001b[39;00m validate \u001b[38;5;129;01mand\u001b[39;00m \u001b[38;5;129;01mnot\u001b[39;00m re\u001b[38;5;241m.\u001b[39mfullmatch(\u001b[38;5;124mb\u001b[39m\u001b[38;5;124m'\u001b[39m\u001b[38;5;124m[A-Za-z0-9+/]*=\u001b[39m\u001b[38;5;124m{\u001b[39m\u001b[38;5;124m0,2}\u001b[39m\u001b[38;5;124m'\u001b[39m, s):\n\u001b[0;32m     86\u001b[0m     \u001b[38;5;28;01mraise\u001b[39;00m binascii\u001b[38;5;241m.\u001b[39mError(\u001b[38;5;124m'\u001b[39m\u001b[38;5;124mNon-base64 digit found\u001b[39m\u001b[38;5;124m'\u001b[39m)\n\u001b[1;32m---> 87\u001b[0m \u001b[38;5;28;01mreturn\u001b[39;00m \u001b[43mbinascii\u001b[49m\u001b[38;5;241;43m.\u001b[39;49m\u001b[43ma2b_base64\u001b[49m\u001b[43m(\u001b[49m\u001b[43ms\u001b[49m\u001b[43m)\u001b[49m\n",
      "\u001b[1;31mError\u001b[0m: Incorrect padding"
     ]
    }
   ],
   "source": [
    "a.decrypt(b'\\xf0\\xf3\\xcfn\\xc1pz\\x16\\xde4\\x86\\xdb\\xd2\\x17\\x14q\\xb7\\xdc\\x9f\\xc7\\x0f3\"\\x0e]\\x92\\x9a\\xd8\\xed\\x0c,4')"
   ]
  }
 ],
 "metadata": {
  "kernelspec": {
   "display_name": "base",
   "language": "python",
   "name": "python3"
  },
  "language_info": {
   "codemirror_mode": {
    "name": "ipython",
    "version": 3
   },
   "file_extension": ".py",
   "mimetype": "text/x-python",
   "name": "python",
   "nbconvert_exporter": "python",
   "pygments_lexer": "ipython3",
   "version": "3.10.13"
  }
 },
 "nbformat": 4,
 "nbformat_minor": 2
}
