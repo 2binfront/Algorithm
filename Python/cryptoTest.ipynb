{
 "cells": [
  {
   "cell_type": "code",
   "execution_count": 21,
   "metadata": {},
   "outputs": [
    {
     "name": "stdout",
     "output_type": "stream",
     "text": [
      "b'KS\\x15k\\x1c\\x00!\\xe5\\xae;r\\xf7\\x06\\xb3\\x93\\x14'\n",
      "b'\\xb6^\\xe3Sy\\x08\\\\`\\x9c\\x9b\\x9eB\\xf3<.\\x08'\n",
      "b'admin'\n"
     ]
    }
   ],
   "source": [
    "import os\n",
    "from cryptography.hazmat.primitives import padding\n",
    "from cryptography.hazmat.primitives.ciphers import Cipher, algorithms, modes\n",
    "from cryptography.hazmat.backends import default_backend\n",
    "from base64 import b64encode, b64decode\n",
    "from Crypto.Cipher import AES\n",
    "\n",
    "class AESCipherCBC:\n",
    "    def __init__(self, key):\n",
    "        if len(key) not in [16, 24, 32]:\n",
    "            raise ValueError(\"AES key must be either 16, 24, or 32 bytes long\")\n",
    "        self.key = key\n",
    "        self.iv = os.urandom(16)  # 随机生成初始化向量\n",
    "        self.backend = default_backend()\n",
    "\n",
    "    def encrypt(self, plaintext):\n",
    "        padder = padding.PKCS7(128).padder()\n",
    "        padded_data = padder.update(plaintext) + padder.finalize()\n",
    "\n",
    "        cipher = Cipher(\n",
    "            algorithms.AES(self.key), modes.CBC(self.iv), backend=self.backend\n",
    "        )\n",
    "        encryptor = cipher.encryptor()\n",
    "        cipher_text = encryptor.update(padded_data) + encryptor.finalize()\n",
    "\n",
    "        return b64encode(self.iv + cipher_text)\n",
    "\n",
    "    def decrypt(self, cipher_text):\n",
    "        data = b64decode(cipher_text)\n",
    "        iv = data[:16]\n",
    "        cipher_text = data[16:]\n",
    "        print(iv)\n",
    "        print(cipher_text)\n",
    "        aes = AES.new(self.key,AES.MODE_CBC,iv) \n",
    "        # cipher = Cipher(algorithms.AES(self.key), modes.CBC(iv), backend=self.backend)\n",
    "        # decryptor = cipher.decryptor()\n",
    "        # decrypted_data = decryptor.update(cipher_text) + decryptor.finalize()\n",
    "\n",
    "        data = aes.decrypt(cipher_text)\n",
    "        # print(data)\n",
    "        paddingSize = data[-1]\n",
    "        unpadded_data=print(data.rstrip(paddingSize.to_bytes(1, \"little\")))\n",
    "\n",
    "        # unpadder = padding.PKCS7(256).unpadder()\n",
    "        # unpadded_data = unpadder.update(decrypted_data) + unpadder.finalize()\n",
    "\n",
    "        return unpadded_data\n",
    "\n",
    "a = AESCipherCBC(b\"aB9lM7xWt8zR2uQv\")\n",
    "a.decrypt(\"S1MVaxwAIeWuO3L3BrOTFLZe41N5CFxgnJueQvM8Lgg=\")"
   ]
  },
  {
   "cell_type": "code",
   "execution_count": 29,
   "metadata": {},
   "outputs": [
    {
     "data": {
      "text/plain": [
       "b'eLjhTr8lYx0gxE5fPBN7dUs6VtOy8UxtRiqAlSYZxY2ravudrI4x2ejV384VRrBd'"
      ]
     },
     "execution_count": 29,
     "metadata": {},
     "output_type": "execute_result"
    }
   ],
   "source": [
    "a.encrypt(b'aaaaaaaaaaaaaaaaaaa')"
   ]
  },
  {
   "cell_type": "code",
   "execution_count": 30,
   "metadata": {},
   "outputs": [
    {
     "name": "stdout",
     "output_type": "stream",
     "text": [
      "b'x\\xb8\\xe1N\\xbf%c\\x1d \\xc4N_<\\x13{u'\n",
      "b'K:V\\xd3\\xb2\\xf1LmF*\\x80\\x95&\\x19\\xc5\\x8d\\xabj\\xfb\\x9d\\xac\\x8e1\\xd9\\xe8\\xd5\\xdf\\xce\\x15F\\xb0]'\n",
      "b'aaaaaaaaaaaaaaaaaaa'\n"
     ]
    }
   ],
   "source": [
    "a.decrypt(b\"eLjhTr8lYx0gxE5fPBN7dUs6VtOy8UxtRiqAlSYZxY2ravudrI4x2ejV384VRrBd\")"
   ]
  }
 ],
 "metadata": {
  "kernelspec": {
   "display_name": "base",
   "language": "python",
   "name": "python3"
  },
  "language_info": {
   "codemirror_mode": {
    "name": "ipython",
    "version": 3
   },
   "file_extension": ".py",
   "mimetype": "text/x-python",
   "name": "python",
   "nbconvert_exporter": "python",
   "pygments_lexer": "ipython3",
   "version": "3.10.13"
  }
 },
 "nbformat": 4,
 "nbformat_minor": 2
}
