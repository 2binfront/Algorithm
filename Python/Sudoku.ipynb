{
 "cells": [
  {
   "cell_type": "markdown",
   "metadata": {},
   "source": [
    "编写一个程序，通过填充空格来解决数独问题。\n",
    "\n",
    "数独的解法需 遵循如下规则：\n",
    "\n",
    "数字 1-9 在每一行只能出现一次。\n",
    "\n",
    "数字 1-9 在每一列只能出现一次。\n",
    "\n",
    "数字 1-9 在每一个以粗实线分隔的 3x3 宫内只能出现一次。（请参考示例图）\n",
    "\n",
    "数独部分空格内已填入了数字，空白格用 '.' 表示。\n",
    "\n",
    "示例 1：\n",
    "![sudo](./assets/soduku.png)\n"
   ]
  },
  {
   "cell_type": "code",
   "execution_count": null,
   "metadata": {},
   "outputs": [],
   "source": []
  }
 ],
 "metadata": {
  "kernelspec": {
   "display_name": "Python 3.9.13 ('base')",
   "language": "python",
   "name": "python3"
  },
  "language_info": {
   "name": "python",
   "version": "3.9.13"
  },
  "orig_nbformat": 4,
  "vscode": {
   "interpreter": {
    "hash": "398282fb7620f5fd88ade154d6abf8916fb0fb3d0636779328aad3c3eaa17a1c"
   }
  }
 },
 "nbformat": 4,
 "nbformat_minor": 2
}
