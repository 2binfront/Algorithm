{
 "cells": [
  {
   "cell_type": "markdown",
   "metadata": {},
   "source": [
    "编写一个程序，通过填充空格来解决数独问题。\n",
    "\n",
    "数独的解法需 遵循如下规则：\n",
    "\n",
    "数字 1-9 在每一行只能出现一次。\n",
    "\n",
    "数字 1-9 在每一列只能出现一次。\n",
    "\n",
    "数字 1-9 在每一个以粗实线分隔的 3x3 宫内只能出现一次。（请参考示例图）\n",
    "\n",
    "数独部分空格内已填入了数字，空白格用 '.' 表示。\n",
    "\n",
    "示例 1：\n",
    "![sudo](./assets/soduku.png)\n",
    "\n",
    "输入：board = [[\"5\",\"3\",\".\",\".\",\"7\",\".\",\".\",\".\",\".\"],[\"6\",\".\",\".\",\"1\",\"9\",\"5\",\".\",\".\",\".\"],[\".\",\"9\",\"8\",\".\",\".\",\".\",\".\",\"6\",\".\"],[\"8\",\".\",\".\",\".\",\"6\",\".\",\".\",\".\",\"3\"],[\"4\",\".\",\".\",\"8\",\".\",\"3\",\".\",\".\",\"1\"],[\"7\",\".\",\".\",\".\",\"2\",\".\",\".\",\".\",\"6\"],[\".\",\"6\",\".\",\".\",\".\",\".\",\"2\",\"8\",\".\"],[\".\",\".\",\".\",\"4\",\"1\",\"9\",\".\",\".\",\"5\"],[\".\",\".\",\".\",\".\",\"8\",\".\",\".\",\"7\",\"9\"]]\n",
    "\n",
    "输出：[[\"5\",\"3\",\"4\",\"6\",\"7\",\"8\",\"9\",\"1\",\"2\"],[\"6\",\"7\",\"2\",\"1\",\"9\",\"5\",\"3\",\"4\",\"8\"],[\"1\",\"9\",\"8\",\"3\",\"4\",\"2\",\"5\",\"6\",\"7\"],[\"8\",\"5\",\"9\",\"7\",\"6\",\"1\",\"4\",\"2\",\"3\"],[\"4\",\"2\",\"6\",\"8\",\"5\",\"3\",\"7\",\"9\",\"1\"],[\"7\",\"1\",\"3\",\"9\",\"2\",\"4\",\"8\",\"5\",\"6\"],[\"9\",\"6\",\"1\",\"5\",\"3\",\"7\",\"2\",\"8\",\"4\"],[\"2\",\"8\",\"7\",\"4\",\"1\",\"9\",\"6\",\"3\",\"5\"],[\"3\",\"4\",\"5\",\"2\",\"8\",\"6\",\"1\",\"7\",\"9\"]]"
   ]
  },
  {
   "cell_type": "code",
   "execution_count": 6,
   "metadata": {},
   "outputs": [
    {
     "name": "stdout",
     "output_type": "stream",
     "text": [
      "test\n"
     ]
    }
   ],
   "source": [
    "from typing import List\n",
    "\n",
    "\n",
    "class Solution:\n",
    "    def solveSudoku(self, board: List[List[str]]) -> None:\n",
    "        \"\"\"\n",
    "        Do not return anything, modify board in-place instead.\n",
    "        \"\"\"\n",
    "        print(\"test\")\n",
    "\n",
    "\n",
    "print(\"test\")"
   ]
  },
  {
   "cell_type": "code",
   "execution_count": 18,
   "metadata": {},
   "outputs": [
    {
     "data": {
      "text/plain": [
       "['1269', '345', '23']"
      ]
     },
     "execution_count": 18,
     "metadata": {},
     "output_type": "execute_result"
    }
   ],
   "source": [
    "def lift_str(n):\n",
    "    str_list=[]\n",
    "    #tmp暂存储目前找到的最长的上升数\n",
    "    tmp=''\n",
    "    for i in range(len(n)):\n",
    "        #当前i小于后面的数，并且不是末尾\n",
    "        if i<len(n)-1 and n[i]<n[i+1]:\n",
    "            tmp+=n[i]\n",
    "        #两种情况：\n",
    "        #i为n的末尾时，有 n[i-1]<n[i]，当前i也应该加入tmp作为上升数的尾部\n",
    "        #n[i]>=n[i+1]，n[i+1]不满足上升数条件，同样把n[i]加入tmp作为上升数的尾部，从下标i+1开始寻找下一个上升数\n",
    "        else:\n",
    "            tmp+=n[i]\n",
    "            if(len(tmp)>=2):\n",
    "                str_list.append(tmp)\n",
    "            #每次找到一个当前最长上升数添加到答案列表里并从下标i+1（下一次循环i变为i+1）重新开始寻找下一个上升数\n",
    "            tmp=''\n",
    "    return(str_list)\n",
    "\n",
    "\n",
    "a='1269834523'          \n",
    "a_list=lift_str(a)\n",
    "a_list"
   ]
  }
 ],
 "metadata": {
  "kernelspec": {
   "display_name": "Python 3.10.4 ('python0310')",
   "language": "python",
   "name": "python3"
  },
  "language_info": {
   "codemirror_mode": {
    "name": "ipython",
    "version": 3
   },
   "file_extension": ".py",
   "mimetype": "text/x-python",
   "name": "python",
   "nbconvert_exporter": "python",
   "pygments_lexer": "ipython3",
   "version": "3.10.4"
  },
  "orig_nbformat": 4,
  "vscode": {
   "interpreter": {
    "hash": "e0153583d0bfa7f52e03646584e72c0a2e6cc52e1da4023d4cfac090d95f3789"
   }
  }
 },
 "nbformat": 4,
 "nbformat_minor": 2
}
