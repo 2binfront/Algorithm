{
 "cells": [
  {
   "cell_type": "markdown",
   "metadata": {},
   "source": [
    "像12、456、1356这些数有一个共同的特点，相邻两个数字，右边的数字始终大于左边的数字，取名为\"上升数\"，\"上升数\"至少为两位数。从键盘输入一串数字（大于等于2个数字，数字位数不用另外使用语句判断），寻找其中的\"上升数\"（注意上升数尽量长，例如12693中只要找出1269就可以了），并将结果输出到屏幕上，若找不到则输出“not found”。\n",
    "\n",
    "提示：注意不要遗漏考虑最后一个数。"
   ]
  },
  {
   "cell_type": "code",
   "execution_count": null,
   "metadata": {},
   "outputs": [],
   "source": [
    "def lift_str(n):\n",
    "    str_list=[]\n",
    "    #tmp暂存储目前找到的最长的上升数\n",
    "    tmp=''\n",
    "    for i in range(len(n)):\n",
    "        #当前i小于后面的数，并且不是末尾\n",
    "        if i<len(n)-1 and n[i]<n[i+1]:\n",
    "            tmp+=n[i]\n",
    "        #两种情况：\n",
    "        #i为n的末尾时，有 n[i-1]<n[i]，当前i也应该加入tmp作为上升数的尾部\n",
    "        #n[i]>=n[i+1]，n[i+1]不满足上升数条件，同样把n[i]加入tmp作为上升数的尾部，从下标i+1开始寻找下一个上升数\n",
    "        else:\n",
    "            tmp+=n[i]\n",
    "            if(len(tmp)>=2):\n",
    "                str_list.append(tmp)\n",
    "            #每次找到一个当前最长上升数添加到答案列表里并从下标i+1（下一次循环i变为i+1）重新开始寻找下一个上升数\n",
    "            tmp=''\n",
    "    return(str_list)\n",
    "\n",
    "\n",
    "a='1269834523'          \n",
    "a_list=lift_str(a)\n",
    "a_list"
   ]
  }
 ],
 "metadata": {
  "kernelspec": {
   "display_name": "Python 3.9.13 ('base')",
   "language": "python",
   "name": "python3"
  },
  "language_info": {
   "name": "python",
   "version": "3.9.13"
  },
  "orig_nbformat": 4,
  "vscode": {
   "interpreter": {
    "hash": "398282fb7620f5fd88ade154d6abf8916fb0fb3d0636779328aad3c3eaa17a1c"
   }
  }
 },
 "nbformat": 4,
 "nbformat_minor": 2
}
