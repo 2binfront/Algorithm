{
 "cells": [
  {
   "attachments": {},
   "cell_type": "markdown",
   "metadata": {},
   "source": [
    "你正在参与祖玛游戏的一个变种。\n",
    "\n",
    "在这个祖玛游戏变体中，桌面上有 一排 彩球，每个球的颜色可能是：红色 'R'、黄色 'Y'、蓝色 'B'、绿色 'G' 或白色 'W' 。你的手中也有一些彩球。\n",
    "\n",
    "你的目标是 清空 桌面上所有的球。每一回合：\n",
    "\n",
    "- 从你手上的彩球中选出 任意一颗 ，然后将其插入桌面上那一排球中：两球之间或这一排球的任一端。\n",
    "- 接着，如果有出现 三个或者三个以上 且 颜色相同 的球相连的话，就把它们移除掉。\n",
    "    如果这种移除操作同样导致出现三个或者三个以上且颜色相同的球相连，则可以继续移除这些球，直到不再满足移除条件。\n",
    "- 如果桌面上所有球都被移除，则认为你赢得本场游戏。\n",
    "- 重复这个过程，直到你赢了游戏或者手中没有更多的球。\n",
    "\n",
    "给你一个字符串 board ，表示桌面上最开始的那排球。另给你一个字符串 hand ，表示手里的彩球。请你按上述操作步骤移除掉桌上所有球，计算并返回所需的 最少 球数。如果不能移除桌上所有的球，返回 -1 。\n",
    "\n",
    "提示：\n",
    "\n",
    "- 1 <= board.length <= 16\n",
    "- 1 <= hand.length <= 5\n",
    "- board 和 hand 由字符 'R'、'Y'、'B'、'G' 和 'W' 组成\n",
    "- 桌面上一开始的球中，不会有三个及三个以上颜色相同且连着的球"
   ]
  },
  {
   "attachments": {},
   "cell_type": "markdown",
   "metadata": {},
   "source": [
    "示例：\n",
    "\n",
    "\n",
    "输入：board = \"WRRBBW\", hand = \"RB\"\n",
    "\n",
    "输出：-1\n",
    "\n",
    "解释：无法移除桌面上的所有球。可以得到的最好局面是：\n",
    "\n",
    "\\- 插入一个 'R' ，使桌面变为 WRRRBBW 。WRRRBBW -> WBBW\n",
    "\n",
    "\\- 插入一个 'B' ，使桌面变为 WBBBW 。WBBBW -> WW\n",
    "\n",
    "桌面上还剩着球，没有其他球可以插入。\n",
    "\n",
    "<br><br>\n",
    "\n",
    "输入：board = \"RBYYBBRRB\", hand = \"YRBGB\"\n",
    "\n",
    "输出：3\n",
    "\n",
    "解释：要想清空桌面上的球，可以按下述步骤：\n",
    "\n",
    "\\- 插入一个 'Y' ，使桌面变为 RBYYYBBRRB 。RBYYYBBRRB -> RBBBRRB -> RRRB -> B\n",
    "\n",
    "\\- 插入一个 'B' ，使桌面变为 BB 。\n",
    "\n",
    "\\- 插入一个 'B' ，使桌面变为 BBB 。BBB -> empty\n",
    "\n",
    "只需从手中出 3 个球就可以清空桌面"
   ]
  },
  {
   "attachments": {},
   "cell_type": "markdown",
   "metadata": {},
   "source": [
    "核心是在依次将hand球插入board球所有缝隙（有顺序，缝隙可变）的所有方法中，找到最快能消除所有board球的方法，并返回需要的最少hand球数，没有则返回-1；\n",
    "\n",
    "可暴力搜索，难在优化"
   ]
  },
  {
   "attachments": {},
   "cell_type": "markdown",
   "metadata": {},
   "source": [
    "方案一：\n",
    "使用广度优先搜索\n",
    "\n",
    "三个剪枝条件：\n",
    "\n",
    "1.当前hand球存在颜色重复球仅判断一次（前提是针对board球每个缝从前往后看一遍hand球-广度优先，每次放球后还要更新hand球）\n",
    "\n",
    "2.只在当前hand球和board球颜色相同时才放球，并且只放board球前面（那就等价于hand球与board球上一个颜色相同时不放球）\n",
    "\n",
    "3.只在有更优状况下才继续增加：\n",
    "- 当前hand球与board球颜色相同\n",
    "  例如：桌面上的球为 WWRRBBWW，手中的球为 WWRB，答案为 2。\n",
    "    操作方法如下：WWRRBBWW→WW(R)RRBBWW→WWBBWW→WW(B)BBWW→WWWW→\"\"\n",
    "\n",
    "- 当前hand球与当前board球颜色不同但当前board球与上一个board球颜色相同\n",
    "  例如：桌面上的球为 RRWWRRBBRR，手中的球为 WB，答案为 2。\n",
    "  操作方法如下：RRWWRRBBRR→RRWWRRBBR(W)R→RRWWRR(B)BBRWR→RRWWRRRWR→RRWWWR→RRR→\"\"\n"
   ]
  },
  {
   "cell_type": "code",
   "execution_count": 18,
   "metadata": {},
   "outputs": [],
   "source": [
    "from collections import deque\n",
    "from itertools import product\n",
    "import re\n",
    "\n",
    "\n",
    "class Solution:\n",
    "    def findMinStep(self, board: str, hand: str) -> int:\n",
    "        def clean(s):\n",
    "            pattern = r\"(.)\\1{2,}\"\n",
    "            n=1\n",
    "            while n:\n",
    "                s,n = re.subn(pattern,\"\",s)\n",
    "            return s\n",
    "\n",
    "        # hand sort\n",
    "        hand = \"\".join(sorted(hand))\n",
    "\n",
    "        # 广度优先搜索\n",
    "        queue = deque([(board,hand,0)])\n",
    "        # visited = {(board,hand)}\n",
    "        visited=[(board,hand)]\n",
    "\n",
    "        while queue:\n",
    "            cur_board,cur_hand,step = queue.popleft()\n",
    "            # +1是因为末尾也有可能插入\n",
    "            for i,j in product(range(len(cur_board)+1),range(len(cur_hand))):\n",
    "                #pruning 1:手上当前球和上一个颜色相同\n",
    "                if j>0 and cur_hand[j]==cur_hand[j-1]:\n",
    "                    continue\n",
    "\n",
    "                #2 只在连续相同颜色的球的开头位置插入新球\n",
    "                if i>0 and cur_board[i-1]==cur_hand[j]:\n",
    "                    continue\n",
    "\n",
    "                #3只在有可能更优结果时插入\n",
    "                choose = False\n",
    "\n",
    "                if i<len(cur_board) and cur_hand[j]==cur_board[i]:\n",
    "                    choose=True\n",
    "                if 0<i<len(cur_board) and cur_board[i-1]==cur_board[i] and cur_board[i]!=cur_hand[j]:\n",
    "                    choose=True\n",
    "\n",
    "                if choose:\n",
    "                    new_board = clean(cur_board[:i]+cur_hand[j]+cur_board[i:])\n",
    "                    new_hand = cur_hand[:j]+cur_hand[j+1:]\n",
    "\n",
    "                    if not new_board:\n",
    "                        return step+1\n",
    "                    if (new_board, new_hand) not in visited:\n",
    "                        queue.append((new_board, new_hand, step + 1))# type: ignore                       \n",
    "                        # visited.add((new_board, new_hand))\n",
    "                        visited.append((new_board, new_hand))\n",
    "\n",
    "        return -1\n"
   ]
  },
  {
   "cell_type": "code",
   "execution_count": 19,
   "metadata": {},
   "outputs": [
    {
     "name": "stdout",
     "output_type": "stream",
     "text": [
      "-1\n"
     ]
    }
   ],
   "source": [
    "sol1 = Solution()\n",
    "print(sol1.findMinStep('rrggbbyywwrrggbb','rgbyw'))"
   ]
  },
  {
   "attachments": {},
   "cell_type": "markdown",
   "metadata": {},
   "source": [
    "#1.9s-set\n",
    "#3m 18.3s-list\n",
    "\n",
    "差距恐怖如斯"
   ]
  },
  {
   "cell_type": "code",
   "execution_count": 15,
   "metadata": {},
   "outputs": [
    {
     "data": {
      "text/plain": [
       "[('rrggbbyywwrrggbb', 'rgbyw'),\n",
       " ('rrggbbyywwrrggbb', 'rgbyw'),\n",
       " ('rrggbbyywwrrggbb', 'rgbyw')]"
      ]
     },
     "execution_count": 15,
     "metadata": {},
     "output_type": "execute_result"
    }
   ],
   "source": [
    "list1 = [('rrggbbyywwrrggbb','rgbyw'),('rrggbbyywwrrggbb','rgbyw')]\n",
    "\n",
    "testboard1='rrggbbyywwrrggbb'\n",
    "testhand1='rgbyw'\n",
    "if (testboard1,testhand1) in list1:\n",
    "    list1.append((testboard1,testhand1))\n",
    "list1"
   ]
  },
  {
   "cell_type": "code",
   "execution_count": 9,
   "metadata": {},
   "outputs": [
    {
     "data": {
      "text/plain": [
       "dict"
      ]
     },
     "execution_count": 9,
     "metadata": {},
     "output_type": "execute_result"
    }
   ],
   "source": [
    "dict1={('rrggbbyywwrrggbb','rgbyw')}\n"
   ]
  }
 ],
 "metadata": {
  "kernelspec": {
   "display_name": "base",
   "language": "python",
   "name": "python3"
  },
  "language_info": {
   "codemirror_mode": {
    "name": "ipython",
    "version": 3
   },
   "file_extension": ".py",
   "mimetype": "text/x-python",
   "name": "python",
   "nbconvert_exporter": "python",
   "pygments_lexer": "ipython3",
   "version": "3.9.13"
  },
  "orig_nbformat": 4,
  "vscode": {
   "interpreter": {
    "hash": "398282fb7620f5fd88ade154d6abf8916fb0fb3d0636779328aad3c3eaa17a1c"
   }
  }
 },
 "nbformat": 4,
 "nbformat_minor": 2
}
