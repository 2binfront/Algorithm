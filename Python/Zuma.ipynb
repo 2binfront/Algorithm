{
 "cells": [
  {
   "attachments": {},
   "cell_type": "markdown",
   "metadata": {},
   "source": [
    "你正在参与祖玛游戏的一个变种。\n",
    "\n",
    "在这个祖玛游戏变体中，桌面上有 一排 彩球，每个球的颜色可能是：红色 'R'、黄色 'Y'、蓝色 'B'、绿色 'G' 或白色 'W' 。你的手中也有一些彩球。\n",
    "\n",
    "你的目标是 清空 桌面上所有的球。每一回合：\n",
    "\n",
    "- 从你手上的彩球中选出 任意一颗 ，然后将其插入桌面上那一排球中：两球之间或这一排球的任一端。\n",
    "- 接着，如果有出现 三个或者三个以上 且 颜色相同 的球相连的话，就把它们移除掉。\n",
    "    如果这种移除操作同样导致出现三个或者三个以上且颜色相同的球相连，则可以继续移除这些球，直到不再满足移除条件。\n",
    "- 如果桌面上所有球都被移除，则认为你赢得本场游戏。\n",
    "- 重复这个过程，直到你赢了游戏或者手中没有更多的球。\n",
    "\n",
    "给你一个字符串 board ，表示桌面上最开始的那排球。另给你一个字符串 hand ，表示手里的彩球。请你按上述操作步骤移除掉桌上所有球，计算并返回所需的 最少 球数。如果不能移除桌上所有的球，返回 -1 。\n",
    "\n",
    "提示：\n",
    "\n",
    "- 1 <= board.length <= 16\n",
    "- 1 <= hand.length <= 5\n",
    "- board 和 hand 由字符 'R'、'Y'、'B'、'G' 和 'W' 组成\n",
    "- 桌面上一开始的球中，不会有三个及三个以上颜色相同且连着的球"
   ]
  },
  {
   "attachments": {},
   "cell_type": "markdown",
   "metadata": {},
   "source": [
    "示例：\n",
    "\n",
    "\n",
    "输入：board = \"WRRBBW\", hand = \"RB\"\n",
    "\n",
    "输出：-1\n",
    "\n",
    "解释：无法移除桌面上的所有球。可以得到的最好局面是：\n",
    "\n",
    "\\- 插入一个 'R' ，使桌面变为 WRRRBBW 。WRRRBBW -> WBBW\n",
    "\n",
    "\\- 插入一个 'B' ，使桌面变为 WBBBW 。WBBBW -> WW\n",
    "\n",
    "桌面上还剩着球，没有其他球可以插入。\n",
    "\n",
    "<br><br>\n",
    "\n",
    "输入：board = \"RBYYBBRRB\", hand = \"YRBGB\"\n",
    "\n",
    "输出：3\n",
    "\n",
    "解释：要想清空桌面上的球，可以按下述步骤：\n",
    "\n",
    "\\- 插入一个 'Y' ，使桌面变为 RBYYYBBRRB 。RBYYYBBRRB -> RBBBRRB -> RRRB -> B\n",
    "\n",
    "\\- 插入一个 'B' ，使桌面变为 BB 。\n",
    "\n",
    "\\- 插入一个 'B' ，使桌面变为 BBB 。BBB -> empty\n",
    "\n",
    "只需从手中出 3 个球就可以清空桌面"
   ]
  },
  {
   "cell_type": "code",
   "execution_count": null,
   "metadata": {},
   "outputs": [],
   "source": []
  }
 ],
 "metadata": {
  "kernelspec": {
   "display_name": "base",
   "language": "python",
   "name": "python3"
  },
  "language_info": {
   "name": "python",
   "version": "3.9.13 (main, Aug 25 2022, 23:51:50) [MSC v.1916 64 bit (AMD64)]"
  },
  "orig_nbformat": 4,
  "vscode": {
   "interpreter": {
    "hash": "398282fb7620f5fd88ade154d6abf8916fb0fb3d0636779328aad3c3eaa17a1c"
   }
  }
 },
 "nbformat": 4,
 "nbformat_minor": 2
}
