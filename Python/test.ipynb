{
 "cells": [
  {
   "cell_type": "code",
   "execution_count": null,
   "metadata": {},
   "outputs": [],
   "source": [
    "\n",
    "# df_arr = pd.read_csv('F:/Kumar/final_data.csv')\n",
    "# #type(df_arr['用户发帖类型'][0])\n",
    "# df_arr['0']=0\n",
    "# df_arr['1']=0\n",
    "# df_arr['2']=0\n",
    "# df_arr['3']=0\n",
    "# df_arr['4']=0\n",
    "# for index,row in df_arr.iterrows():\n",
    "#     tmp = row['用户发帖类型'].split(',')\n",
    "#     tmp = [int(x) for x in tmp]\n",
    "#     row['0'] = tmp.count(0)\n",
    "#     row['1']=tmp.count(1)\n",
    "#     row['2']=tmp.count(2)\n",
    "#     row['3'] = tmp.count(3)\n",
    "#     row['4']=tmp.count(4)\n",
    "#     df_arr.iloc[index]=row\n",
    "# df_arr.head()"
   ]
  },
  {
   "cell_type": "code",
   "execution_count": 2,
   "metadata": {},
   "outputs": [
    {
     "name": "stderr",
     "output_type": "stream",
     "text": [
      "c:\\Users\\HH\\anaconda3\\lib\\site-packages\\IPython\\core\\interactiveshell.py:3441: DtypeWarning: Columns (13,17) have mixed types.Specify dtype option on import or set low_memory=False.\n",
      "  exec(code_obj, self.user_global_ns, self.user_ns)\n"
     ]
    }
   ],
   "source": [
    "import pandas as pd\n",
    "newdf=pd.read_csv('f:/Kumar/data_all581962.csv',index_col=0)\n"
   ]
  },
  {
   "cell_type": "code",
   "execution_count": 4,
   "metadata": {},
   "outputs": [
    {
     "data": {
      "text/plain": [
       "Index(['Unnamed: 0.1', '主贴', '主贴发表时间', '回复总数', '主贴作者', '发贴用户', '贴文', '发表时间',\n",
       "       '类型', '回复帖类型', '贴子长度', '发贴量', 'text', 'streak', 'insulin', 'medicine',\n",
       "       'label', 'COM', 'PES', 'PIS', 'SES', 'SIS'],\n",
       "      dtype='object')"
      ]
     },
     "execution_count": 4,
     "metadata": {},
     "output_type": "execute_result"
    }
   ],
   "source": [
    "keys = newdf.columns\n",
    "keys"
   ]
  },
  {
   "cell_type": "code",
   "execution_count": 3,
   "metadata": {},
   "outputs": [
    {
     "name": "stderr",
     "output_type": "stream",
     "text": [
      "c:\\Users\\HH\\anaconda3\\lib\\site-packages\\IPython\\core\\interactiveshell.py:3441: DtypeWarning: Columns (5) have mixed types.Specify dtype option on import or set low_memory=False.\n",
      "  exec(code_obj, self.user_global_ns, self.user_ns)\n"
     ]
    }
   ],
   "source": [
    "anotherData = pd.read_csv('f:/Kumar/data_all_1.csv')"
   ]
  },
  {
   "cell_type": "code",
   "execution_count": 17,
   "metadata": {},
   "outputs": [
    {
     "data": {
      "text/plain": [
       "Index(['Unnamed: 0', '发贴用户', '贴文', '发表时间', 'label', '最终标签'], dtype='object')"
      ]
     },
     "execution_count": 17,
     "metadata": {},
     "output_type": "execute_result"
    }
   ],
   "source": [
    "anotherData.columns"
   ]
  },
  {
   "cell_type": "code",
   "execution_count": 24,
   "metadata": {},
   "outputs": [],
   "source": [
    "label_1 = pd.DataFrame(columns=['Unnamed: 0', '发贴用户', '贴文', '发表时间', 'label', '最终标签'])\n",
    "label_2=pd.DataFrame(columns=['Unnamed: 0', '发贴用户', '贴文', '发表时间', 'label', '最终标签'])\n",
    "label_3=pd.DataFrame(columns=['Unnamed: 0', '发贴用户', '贴文', '发表时间', 'label', '最终标签'])\n",
    "#label_1.loc[len(label_1.index)]=anotherData.iloc[0]\n"
   ]
  },
  {
   "cell_type": "code",
   "execution_count": 25,
   "metadata": {},
   "outputs": [],
   "source": [
    "#计数0，1，2，3，4的df\n",
    "count_df=pd.read_csv('f:/Kumar/final_data_1.csv')"
   ]
  },
  {
   "cell_type": "code",
   "execution_count": 28,
   "metadata": {},
   "outputs": [],
   "source": [
    "count_name_df=pd.read_csv('f:/Kumar/data4.csv')"
   ]
  },
  {
   "cell_type": "code",
   "execution_count": 29,
   "metadata": {},
   "outputs": [
    {
     "data": {
      "text/plain": [
       "Index(['Unnamed: 0', '用户名', '用户类型', '用户发帖类型', '用户发帖时间'], dtype='object')"
      ]
     },
     "execution_count": 29,
     "metadata": {},
     "output_type": "execute_result"
    }
   ],
   "source": [
    "count_name_df.columns"
   ]
  },
  {
   "cell_type": "code",
   "execution_count": 30,
   "metadata": {},
   "outputs": [
    {
     "data": {
      "text/plain": [
       "['雅曦妈妈',\n",
       " 'mmm1233',\n",
       " 'jshang1',\n",
       " '唐风2000',\n",
       " '恋糖依然',\n",
       " 'amellias',\n",
       " 'OMG',\n",
       " '桃之丫丫',\n",
       " '笑一个',\n",
       " '婷儿628',\n",
       " '可乐熊',\n",
       " '糖DK',\n",
       " '我与糖共舞',\n",
       " '人生无病',\n",
       " '爷们',\n",
       " 'xiudouxiu',\n",
       " '鄢陵',\n",
       " '随心而动',\n",
       " '大喇叭',\n",
       " '行动',\n",
       " 'candy0625',\n",
       " '影子...',\n",
       " '我的人生就是吃',\n",
       " '糖人的玻璃心',\n",
       " '水凝露',\n",
       " '慕荣胖胖',\n",
       " '血淡于蜜',\n",
       " '魔术师PLUS',\n",
       " '明宝宝',\n",
       " 'AndyGu',\n",
       " 'rrgg88',\n",
       " '挥霍完的青春',\n",
       " '为所有糖友加油',\n",
       " 'wys79630',\n",
       " '小雨点麻麻',\n",
       " '27周岁糖男',\n",
       " 'Anastasia雯',\n",
       " '众神之仆',\n",
       " '30岁后的人生',\n",
       " '北方的山羊',\n",
       " '小声讲',\n",
       " '天涯漂泊',\n",
       " 'langrenbin',\n",
       " '我心有他',\n",
       " '吴嘉大小姐',\n",
       " '一花一世界',\n",
       " '无奈变宅男',\n",
       " '百夫长',\n",
       " '?猫呜?',\n",
       " 'sars911',\n",
       " '不管有多苦',\n",
       " '胖菠萝包',\n",
       " 'shirleyli',\n",
       " '糖无知',\n",
       " '向天再借30年',\n",
       " '葡萄tang',\n",
       " 'highestsky',\n",
       " 'anbobi',\n",
       " 'jdjd',\n",
       " '倪可',\n",
       " '木糖醇砂糖橘',\n",
       " '拒绝高血糖',\n",
       " '~我的天呐~',\n",
       " 'doahero',\n",
       " '希望',\n",
       " '周小瑞ray',\n",
       " '人生过客',\n",
       " 'jxlj153',\n",
       " '克制',\n",
       " 'hmdg',\n",
       " 'nforce51',\n",
       " 'soulman',\n",
       " '除邪',\n",
       " '暴走余生',\n",
       " 'chulong',\n",
       " '块头',\n",
       " '新糖粉',\n",
       " '李琪',\n",
       " '乐生',\n",
       " '战战兢兢',\n",
       " '我想食糖',\n",
       " '98年',\n",
       " '六子',\n",
       " '秋叶飘雪',\n",
       " '鱼娃娃',\n",
       " 'a89422112',\n",
       " '守护鸟',\n",
       " '做个乐观的人',\n",
       " '金珠玛米',\n",
       " '29367680',\n",
       " '快乐南瓜',\n",
       " 'kw7781856',\n",
       " '杨果果',\n",
       " '6822238ab',\n",
       " '糖大师',\n",
       " '抗糖骑士',\n",
       " '阿蘅',\n",
       " 'gcx8081',\n",
       " '自寻烦恼尤为傻',\n",
       " 'woodfox',\n",
       " 'jjjjjok',\n",
       " '231923',\n",
       " '最爱晨风',\n",
       " 'wang.yb',\n",
       " '傻一半',\n",
       " '不爱甜',\n",
       " 'SY大海',\n",
       " '为超神而生',\n",
       " '香菜',\n",
       " '#NAME?',\n",
       " '假装坚强',\n",
       " 'lili7818',\n",
       " '龙沙宝石',\n",
       " '朝五晚九',\n",
       " '甜蜜的生活开始',\n",
       " '向前走',\n",
       " '272047249',\n",
       " '天外飞雪',\n",
       " 'WWXSL',\n",
       " 'chxdan',\n",
       " '唐莫升',\n",
       " '子飞',\n",
       " '又见秋天',\n",
       " '健康园丁',\n",
       " '加油抗糖',\n",
       " '冬瓜不甜',\n",
       " 'nanmian',\n",
       " '俞月人',\n",
       " '糖胖胖nv',\n",
       " '衣服自己洗',\n",
       " '麻辣锅巴',\n",
       " '尹冬生',\n",
       " '韩瑞000',\n",
       " 'zzqin333360',\n",
       " 'shuangzi437',\n",
       " '旅行鼠',\n",
       " '506329746',\n",
       " 'haieuo',\n",
       " 'wufs',\n",
       " 'tydiy',\n",
       " '唐宁街722',\n",
       " '糖七克得',\n",
       " 'yangsp',\n",
       " 'zzffddff',\n",
       " '接下来见证奇迹',\n",
       " '炮弹破糖衣',\n",
       " 'haoyutian',\n",
       " 'UpUp',\n",
       " '顺风顺水',\n",
       " 'xop998',\n",
       " '糖糖正正一',\n",
       " '老白',\n",
       " '无奈新糖人',\n",
       " '马特',\n",
       " 'richardzhaox',\n",
       " '美好人生5799',\n",
       " '安卓',\n",
       " '年轻患者',\n",
       " '纯洁',\n",
       " 'a3665288',\n",
       " 'shaofei911',\n",
       " 'sana',\n",
       " 'annie_li',\n",
       " '惠风和畅',\n",
       " 'tab2010',\n",
       " '段玉',\n",
       " '天平野人',\n",
       " 'toyuyanwife',\n",
       " 'alimjan',\n",
       " '大叔',\n",
       " '飞飞鱼',\n",
       " 'mhlxzh',\n",
       " 'bbccdd',\n",
       " 'gtolv',\n",
       " '范腕',\n",
       " 'sacret',\n",
       " '呼楠',\n",
       " '红尘了了',\n",
       " '雨人1723',\n",
       " 'zhengxu',\n",
       " 'jmhuitian',\n",
       " 'xintangren',\n",
       " '猪笼鸡',\n",
       " '老树根',\n",
       " 'wolaile',\n",
       " '奔三糖人',\n",
       " '棒棒的妈',\n",
       " '抬头是天',\n",
       " '远路',\n",
       " '风轻轻吹',\n",
       " '天女',\n",
       " 'dongxi2011',\n",
       " 'cambridgeshire',\n",
       " 'cz03171',\n",
       " '克拉的冒险',\n",
       " '真彩',\n",
       " 'yhzj',\n",
       " '优化自我',\n",
       " '堂哥',\n",
       " '乐观面对',\n",
       " '我不怕糖',\n",
       " '我命由我不由天',\n",
       " 'yzp',\n",
       " 'tnbzz',\n",
       " '雨中的背影',\n",
       " '魔力猫',\n",
       " '叶子mm',\n",
       " 'sost',\n",
       " 'frisk-yang',\n",
       " 'fleamboy',\n",
       " 'qwert131217',\n",
       " '飞过红尘',\n",
       " 'HeineKen1055',\n",
       " '奸人贱智',\n",
       " '我只在乎你',\n",
       " '妞妞大宝宝',\n",
       " '晶根儿',\n",
       " 'liuyun870210',\n",
       " '逸翎',\n",
       " 'sxy7802',\n",
       " 'diamand99',\n",
       " '1959305997',\n",
       " '铁汉柔情',\n",
       " '深海219624',\n",
       " '糖坚强',\n",
       " 'apple430',\n",
       " 'yonggandexin38',\n",
       " 'mibohan',\n",
       " '18子1234',\n",
       " '向着虚无',\n",
       " '相信自己哦',\n",
       " '马拉松健将',\n",
       " '雪狼688',\n",
       " '找回失去的时光',\n",
       " '隔岸之雨',\n",
       " 'home0925',\n",
       " 'lwq513422',\n",
       " 'huijian100',\n",
       " 'cuge',\n",
       " 'snow98',\n",
       " 'haitao',\n",
       " '末日2012的灾难',\n",
       " 'tom2012',\n",
       " 'ygtq119',\n",
       " 'lwq104',\n",
       " 'Kuros',\n",
       " 'wozainuli',\n",
       " '起风了',\n",
       " '愁死了',\n",
       " '甜蜜过度',\n",
       " '快乐的小糖人',\n",
       " '我要理发了',\n",
       " 'sindydj',\n",
       " 'songfang747',\n",
       " 'hei色的天空',\n",
       " 'wupantong',\n",
       " '2327697',\n",
       " '战斗知了',\n",
       " 'bwgfyz',\n",
       " '此生有憾',\n",
       " 'gzbshl',\n",
       " '一刀',\n",
       " 'dannychen',\n",
       " '水果冰激凌',\n",
       " '月巴',\n",
       " 'gana',\n",
       " '25得糖尿病',\n",
       " '胖妈妈',\n",
       " 'DrinkGoodbye',\n",
       " '沐月乘风',\n",
       " '东风依旧',\n",
       " '紫眸冰颜',\n",
       " '天马行空99',\n",
       " '何时糖走',\n",
       " '佳华阳',\n",
       " '笑看风云淡',\n",
       " '53195391',\n",
       " 'yrjs唫',\n",
       " '小顽童007',\n",
       " 'Gtony',\n",
       " '为时已晚',\n",
       " 'dlk',\n",
       " 'chaoforever',\n",
       " '恒康@脚印',\n",
       " 'kei7716966',\n",
       " 'kaixinduguo',\n",
       " 'zhangdf',\n",
       " '啊杰',\n",
       " 'zyx3266',\n",
       " '邦文',\n",
       " '一入唐门深似海',\n",
       " 'yunge',\n",
       " '甜酸苦',\n",
       " 'omtf',\n",
       " 'bob721',\n",
       " '赝品黄花',\n",
       " '没死的勇气',\n",
       " 'jm751219',\n",
       " '！！！',\n",
       " '我这种无奈',\n",
       " '加菲111',\n",
       " 'jackeyjue',\n",
       " '希望快乐！',\n",
       " '阿宝123',\n",
       " 'xxxxxxxxxxxx',\n",
       " '只要健康',\n",
       " '239777727',\n",
       " '歌者欢天喜地',\n",
       " '糖茗皇',\n",
       " '快乐谷主',\n",
       " '来了又来',\n",
       " '会飞的石头']"
      ]
     },
     "execution_count": 30,
     "metadata": {},
     "output_type": "execute_result"
    }
   ],
   "source": [
    "#记录1，2，3型用户index\n",
    "count_list=[]\n",
    "for index,row in count_df.iterrows():\n",
    "    if row['1'] and row['2'] and row['3']:\n",
    "        count_list.append(index)\n",
    "#记录1，2，3型用户name\n",
    "count_name=[]\n",
    "for i in count_list:\n",
    "    count_name.append(count_name_df['用户名'][i])\n",
    "count_name\n"
   ]
  },
  {
   "cell_type": "code",
   "execution_count": 33,
   "metadata": {},
   "outputs": [
    {
     "data": {
      "text/html": [
       "<div>\n",
       "<style scoped>\n",
       "    .dataframe tbody tr th:only-of-type {\n",
       "        vertical-align: middle;\n",
       "    }\n",
       "\n",
       "    .dataframe tbody tr th {\n",
       "        vertical-align: top;\n",
       "    }\n",
       "\n",
       "    .dataframe thead th {\n",
       "        text-align: right;\n",
       "    }\n",
       "</style>\n",
       "<table border=\"1\" class=\"dataframe\">\n",
       "  <thead>\n",
       "    <tr style=\"text-align: right;\">\n",
       "      <th></th>\n",
       "      <th>Unnamed: 0</th>\n",
       "      <th>发贴用户</th>\n",
       "      <th>贴文</th>\n",
       "      <th>发表时间</th>\n",
       "      <th>label</th>\n",
       "      <th>最终标签</th>\n",
       "    </tr>\n",
       "  </thead>\n",
       "  <tbody>\n",
       "    <tr>\n",
       "      <th>0</th>\n",
       "      <td>1171</td>\n",
       "      <td>雅曦妈妈</td>\n",
       "      <td>明天就裸奔三个月了，又得例行检查了。好好的假期还得进医院，真怕抽血，嫌各种麻烦。但是没办法啊...</td>\n",
       "      <td>发表于 2016-10-2 08:00:44</td>\n",
       "      <td>1</td>\n",
       "      <td>1</td>\n",
       "    </tr>\n",
       "    <tr>\n",
       "      <th>1</th>\n",
       "      <td>1173</td>\n",
       "      <td>雅曦妈妈</td>\n",
       "      <td>终于拿到检查报告，医生第一句话就说:没事，不是糖尿病，我急忙说我是糖尿病，确诊过了。不过停了...</td>\n",
       "      <td>发表于 2016-10-3 13:49:47</td>\n",
       "      <td>1</td>\n",
       "      <td>1</td>\n",
       "    </tr>\n",
       "    <tr>\n",
       "      <th>2</th>\n",
       "      <td>1177</td>\n",
       "      <td>雅曦妈妈</td>\n",
       "      <td>大概有两月没有关注过早餐和午餐二血糖，空腹跟晚餐的偶尔会测一下5.几的空腹，晚餐7.8以下。...</td>\n",
       "      <td>发表于 2017-2-22 17:20:55</td>\n",
       "      <td>1</td>\n",
       "      <td>1</td>\n",
       "    </tr>\n",
       "    <tr>\n",
       "      <th>3</th>\n",
       "      <td>1178</td>\n",
       "      <td>雅曦妈妈</td>\n",
       "      <td>大概有两月没有关注过早餐和午餐二血糖，空腹跟晚餐的偶尔会测一下5.几的空腹，晚餐7.8以下。...</td>\n",
       "      <td>发表于 2017-2-22 17:20:55</td>\n",
       "      <td>1</td>\n",
       "      <td>1</td>\n",
       "    </tr>\n",
       "    <tr>\n",
       "      <th>4</th>\n",
       "      <td>1182</td>\n",
       "      <td>雅曦妈妈</td>\n",
       "      <td>上月确诊住院初期的血糖与这个月回家服药的血糖对比，很开森，最后我向大家请教下，如果想裸奔，光...</td>\n",
       "      <td>发表于 2016-2-9 16:59:00</td>\n",
       "      <td>1</td>\n",
       "      <td>1</td>\n",
       "    </tr>\n",
       "    <tr>\n",
       "      <th>...</th>\n",
       "      <td>...</td>\n",
       "      <td>...</td>\n",
       "      <td>...</td>\n",
       "      <td>...</td>\n",
       "      <td>...</td>\n",
       "      <td>...</td>\n",
       "    </tr>\n",
       "    <tr>\n",
       "      <th>856</th>\n",
       "      <td>545894</td>\n",
       "      <td>会飞的石头</td>\n",
       "      <td>我晚上睡觉前测了下是4.6，那请问第二天早上空腹肯定不会高过4.6吧。。。\\n\\n我吃饭餐后...</td>\n",
       "      <td>发表于 2008-7-31 18:44:16</td>\n",
       "      <td>1</td>\n",
       "      <td>1</td>\n",
       "    </tr>\n",
       "    <tr>\n",
       "      <th>857</th>\n",
       "      <td>545896</td>\n",
       "      <td>会飞的石头</td>\n",
       "      <td>中午吃了9个饺子，自己家包的猪肉白菜陷，其中2个只吃了馅儿，没吃皮。\\n餐后2小时血糖连接测...</td>\n",
       "      <td>发表于 2008-8-2 16:05:36</td>\n",
       "      <td>1</td>\n",
       "      <td>1</td>\n",
       "    </tr>\n",
       "    <tr>\n",
       "      <th>858</th>\n",
       "      <td>545897</td>\n",
       "      <td>会飞的石头</td>\n",
       "      <td>二型，现在根据医生建议停药了一个月，血糖基本控制比较好，只有一次餐后可能9，一般都是7以下。...</td>\n",
       "      <td>发表于 2008-8-8 21:41:22</td>\n",
       "      <td>1</td>\n",
       "      <td>1</td>\n",
       "    </tr>\n",
       "    <tr>\n",
       "      <th>859</th>\n",
       "      <td>545898</td>\n",
       "      <td>会飞的石头</td>\n",
       "      <td>昨天取了结果，胰岛素水平让我很是郁闷了一把。\\n\\n我去年12月查出的糖尿病，当时空腹胰岛素...</td>\n",
       "      <td>发表于 2008-8-29 16:33:08</td>\n",
       "      <td>1</td>\n",
       "      <td>1</td>\n",
       "    </tr>\n",
       "    <tr>\n",
       "      <th>860</th>\n",
       "      <td>545901</td>\n",
       "      <td>会飞的石头</td>\n",
       "      <td>自从07年12月生病以来，一直控制很好，去年6月停药，至今也基本稳定。当然前提是糖尿病饮食，...</td>\n",
       "      <td>发表于 2009-4-17 21:57:55</td>\n",
       "      <td>1</td>\n",
       "      <td>1</td>\n",
       "    </tr>\n",
       "  </tbody>\n",
       "</table>\n",
       "<p>861 rows × 6 columns</p>\n",
       "</div>"
      ],
      "text/plain": [
       "    Unnamed: 0   发贴用户                                                 贴文  \\\n",
       "0         1171   雅曦妈妈  明天就裸奔三个月了，又得例行检查了。好好的假期还得进医院，真怕抽血，嫌各种麻烦。但是没办法啊...   \n",
       "1         1173   雅曦妈妈  终于拿到检查报告，医生第一句话就说:没事，不是糖尿病，我急忙说我是糖尿病，确诊过了。不过停了...   \n",
       "2         1177   雅曦妈妈  大概有两月没有关注过早餐和午餐二血糖，空腹跟晚餐的偶尔会测一下5.几的空腹，晚餐7.8以下。...   \n",
       "3         1178   雅曦妈妈  大概有两月没有关注过早餐和午餐二血糖，空腹跟晚餐的偶尔会测一下5.几的空腹，晚餐7.8以下。...   \n",
       "4         1182   雅曦妈妈  上月确诊住院初期的血糖与这个月回家服药的血糖对比，很开森，最后我向大家请教下，如果想裸奔，光...   \n",
       "..         ...    ...                                                ...   \n",
       "856     545894  会飞的石头  我晚上睡觉前测了下是4.6，那请问第二天早上空腹肯定不会高过4.6吧。。。\\n\\n我吃饭餐后...   \n",
       "857     545896  会飞的石头  中午吃了9个饺子，自己家包的猪肉白菜陷，其中2个只吃了馅儿，没吃皮。\\n餐后2小时血糖连接测...   \n",
       "858     545897  会飞的石头  二型，现在根据医生建议停药了一个月，血糖基本控制比较好，只有一次餐后可能9，一般都是7以下。...   \n",
       "859     545898  会飞的石头  昨天取了结果，胰岛素水平让我很是郁闷了一把。\\n\\n我去年12月查出的糖尿病，当时空腹胰岛素...   \n",
       "860     545901  会飞的石头  自从07年12月生病以来，一直控制很好，去年6月停药，至今也基本稳定。当然前提是糖尿病饮食，...   \n",
       "\n",
       "                       发表时间 label 最终标签  \n",
       "0    发表于 2016-10-2 08:00:44     1    1  \n",
       "1    发表于 2016-10-3 13:49:47     1    1  \n",
       "2    发表于 2017-2-22 17:20:55     1    1  \n",
       "3    发表于 2017-2-22 17:20:55     1    1  \n",
       "4     发表于 2016-2-9 16:59:00     1    1  \n",
       "..                      ...   ...  ...  \n",
       "856  发表于 2008-7-31 18:44:16     1    1  \n",
       "857   发表于 2008-8-2 16:05:36     1    1  \n",
       "858   发表于 2008-8-8 21:41:22     1    1  \n",
       "859  发表于 2008-8-29 16:33:08     1    1  \n",
       "860  发表于 2009-4-17 21:57:55     1    1  \n",
       "\n",
       "[861 rows x 6 columns]"
      ]
     },
     "execution_count": 33,
     "metadata": {},
     "output_type": "execute_result"
    }
   ],
   "source": [
    "for index,row in anotherData.iterrows():\n",
    "    if row['发贴用户'] in count_name:\n",
    "        if row['label']==1:\n",
    "            label_1.loc[len(label_1.index)] = anotherData.iloc[index]\n",
    "        elif row['label']==2:\n",
    "            label_2.loc[len(label_2.index)] = anotherData.iloc[index]\n",
    "        elif row['label']==3:\n",
    "            label_3.loc[len(label_3.index)] = anotherData.iloc[index]\n",
    "label_1"
   ]
  },
  {
   "cell_type": "code",
   "execution_count": 34,
   "metadata": {},
   "outputs": [],
   "source": [
    "label_1.to_csv('f:/Kumar/label_1.csv')\n",
    "label_2.to_csv('f:/Kumar/label_2.csv')\n",
    "label_3.to_csv('f:/Kumar/label_3.csv')"
   ]
  },
  {
   "cell_type": "code",
   "execution_count": 36,
   "metadata": {},
   "outputs": [
    {
     "data": {
      "text/html": [
       "<div>\n",
       "<style scoped>\n",
       "    .dataframe tbody tr th:only-of-type {\n",
       "        vertical-align: middle;\n",
       "    }\n",
       "\n",
       "    .dataframe tbody tr th {\n",
       "        vertical-align: top;\n",
       "    }\n",
       "\n",
       "    .dataframe thead th {\n",
       "        text-align: right;\n",
       "    }\n",
       "</style>\n",
       "<table border=\"1\" class=\"dataframe\">\n",
       "  <thead>\n",
       "    <tr style=\"text-align: right;\">\n",
       "      <th></th>\n",
       "      <th>Unnamed: 0</th>\n",
       "      <th>发贴用户</th>\n",
       "      <th>贴文</th>\n",
       "      <th>发表时间</th>\n",
       "      <th>label</th>\n",
       "      <th>最终标签</th>\n",
       "    </tr>\n",
       "  </thead>\n",
       "  <tbody>\n",
       "    <tr>\n",
       "      <th>0</th>\n",
       "      <td>1186</td>\n",
       "      <td>雅曦妈妈</td>\n",
       "      <td>只能刚发现糖的时候进行强化治疗吗？我当时确诊时没有强化，现在都吃了几个月的药了，暂时控制得挺...</td>\n",
       "      <td>发表于 2016-5-3 21:50:59</td>\n",
       "      <td>3</td>\n",
       "      <td>1</td>\n",
       "    </tr>\n",
       "    <tr>\n",
       "      <th>1</th>\n",
       "      <td>10783</td>\n",
       "      <td>mmm1233</td>\n",
       "      <td>这几天生病了，也不知道什么病。脑袋有点晕，医生反正开了一大堆检查，看到有血糖值。我就顺便看看...</td>\n",
       "      <td>发表于 2016-7-9 20:33:35</td>\n",
       "      <td>3</td>\n",
       "      <td>1</td>\n",
       "    </tr>\n",
       "    <tr>\n",
       "      <th>2</th>\n",
       "      <td>10819</td>\n",
       "      <td>mmm1233</td>\n",
       "      <td>以前有糖友问过不知道胰岛素是否失效！现在看到惜命又怀疑胰岛素失效了！忍不住说下，可以试试空腹...</td>\n",
       "      <td>发表于 2016-9-25 22:27:33</td>\n",
       "      <td>3</td>\n",
       "      <td>1</td>\n",
       "    </tr>\n",
       "    <tr>\n",
       "      <th>3</th>\n",
       "      <td>12314</td>\n",
       "      <td>jshang1</td>\n",
       "      <td>昨天去医院看了医生，让她帮我调用药方案，由于早上空腹喝睡前经常低血糖或者接近低血糖，她把我的...</td>\n",
       "      <td>发表于 2016-10-5 07:20:35</td>\n",
       "      <td>3</td>\n",
       "      <td>1</td>\n",
       "    </tr>\n",
       "    <tr>\n",
       "      <th>4</th>\n",
       "      <td>12316</td>\n",
       "      <td>jshang1</td>\n",
       "      <td>好久没有晒过了，这个礼拜多数是低于4.4的空腹，看来胰岛素的量得往下调了！\\n\\n\\n\\n\\...</td>\n",
       "      <td>发表于 2016-10-16 07:08:22</td>\n",
       "      <td>3</td>\n",
       "      <td>1</td>\n",
       "    </tr>\n",
       "    <tr>\n",
       "      <th>...</th>\n",
       "      <td>...</td>\n",
       "      <td>...</td>\n",
       "      <td>...</td>\n",
       "      <td>...</td>\n",
       "      <td>...</td>\n",
       "      <td>...</td>\n",
       "    </tr>\n",
       "    <tr>\n",
       "      <th>1507</th>\n",
       "      <td>539297</td>\n",
       "      <td>糖茗皇</td>\n",
       "      <td>下班后电话咨询一朋友（老DM20岁得DM1型现在都十几年了。）在交谈过程中他给我说了这样一个...</td>\n",
       "      <td>发表于 2009-7-10 00:34:41</td>\n",
       "      <td>3</td>\n",
       "      <td>1</td>\n",
       "    </tr>\n",
       "    <tr>\n",
       "      <th>1508</th>\n",
       "      <td>539302</td>\n",
       "      <td>糖茗皇</td>\n",
       "      <td>看了很多帖子，网上收寻资料。看来早10点加餐和晚10点加餐还是有点作用的。想知道的是，晚上睡...</td>\n",
       "      <td>发表于 2009-7-15 19:41:33</td>\n",
       "      <td>3</td>\n",
       "      <td>1</td>\n",
       "    </tr>\n",
       "    <tr>\n",
       "      <th>1509</th>\n",
       "      <td>540371</td>\n",
       "      <td>快乐谷主</td>\n",
       "      <td>我妈从2006年5月2日起使用诺和灵30，早14、晚12。\\n本月17日去医院做了个OGTT...</td>\n",
       "      <td>发表于 2007-3-23 13:02:52</td>\n",
       "      <td>3</td>\n",
       "      <td>1</td>\n",
       "    </tr>\n",
       "    <tr>\n",
       "      <th>1510</th>\n",
       "      <td>543274</td>\n",
       "      <td>来了又来</td>\n",
       "      <td>老公是教师，想利用暑假再去做个强化，不知行不行得通。\\n\\n去年九月查出的，11月份去做了半...</td>\n",
       "      <td>发表于 2008-7-11 09:17:16</td>\n",
       "      <td>3</td>\n",
       "      <td>2</td>\n",
       "    </tr>\n",
       "    <tr>\n",
       "      <th>1511</th>\n",
       "      <td>545902</td>\n",
       "      <td>会飞的石头</td>\n",
       "      <td>最近买强生稳豪试纸，都只配国产针头了，我感觉不如以前的进口针头，扎了4次，2次第二天开始痒，...</td>\n",
       "      <td>发表于 2009-4-17 22:06:09</td>\n",
       "      <td>3</td>\n",
       "      <td>1</td>\n",
       "    </tr>\n",
       "  </tbody>\n",
       "</table>\n",
       "<p>1512 rows × 6 columns</p>\n",
       "</div>"
      ],
      "text/plain": [
       "     Unnamed: 0     发贴用户                                                 贴文  \\\n",
       "0          1186     雅曦妈妈  只能刚发现糖的时候进行强化治疗吗？我当时确诊时没有强化，现在都吃了几个月的药了，暂时控制得挺...   \n",
       "1         10783  mmm1233  这几天生病了，也不知道什么病。脑袋有点晕，医生反正开了一大堆检查，看到有血糖值。我就顺便看看...   \n",
       "2         10819  mmm1233  以前有糖友问过不知道胰岛素是否失效！现在看到惜命又怀疑胰岛素失效了！忍不住说下，可以试试空腹...   \n",
       "3         12314  jshang1  昨天去医院看了医生，让她帮我调用药方案，由于早上空腹喝睡前经常低血糖或者接近低血糖，她把我的...   \n",
       "4         12316  jshang1  好久没有晒过了，这个礼拜多数是低于4.4的空腹，看来胰岛素的量得往下调了！\\n\\n\\n\\n\\...   \n",
       "...         ...      ...                                                ...   \n",
       "1507     539297      糖茗皇  下班后电话咨询一朋友（老DM20岁得DM1型现在都十几年了。）在交谈过程中他给我说了这样一个...   \n",
       "1508     539302      糖茗皇  看了很多帖子，网上收寻资料。看来早10点加餐和晚10点加餐还是有点作用的。想知道的是，晚上睡...   \n",
       "1509     540371     快乐谷主  我妈从2006年5月2日起使用诺和灵30，早14、晚12。\\n本月17日去医院做了个OGTT...   \n",
       "1510     543274     来了又来  老公是教师，想利用暑假再去做个强化，不知行不行得通。\\n\\n去年九月查出的，11月份去做了半...   \n",
       "1511     545902    会飞的石头  最近买强生稳豪试纸，都只配国产针头了，我感觉不如以前的进口针头，扎了4次，2次第二天开始痒，...   \n",
       "\n",
       "                         发表时间 label 最终标签  \n",
       "0       发表于 2016-5-3 21:50:59     3    1  \n",
       "1       发表于 2016-7-9 20:33:35     3    1  \n",
       "2      发表于 2016-9-25 22:27:33     3    1  \n",
       "3      发表于 2016-10-5 07:20:35     3    1  \n",
       "4     发表于 2016-10-16 07:08:22     3    1  \n",
       "...                       ...   ...  ...  \n",
       "1507   发表于 2009-7-10 00:34:41     3    1  \n",
       "1508   发表于 2009-7-15 19:41:33     3    1  \n",
       "1509   发表于 2007-3-23 13:02:52     3    1  \n",
       "1510   发表于 2008-7-11 09:17:16     3    2  \n",
       "1511   发表于 2009-4-17 22:06:09     3    1  \n",
       "\n",
       "[1512 rows x 6 columns]"
      ]
     },
     "execution_count": 36,
     "metadata": {},
     "output_type": "execute_result"
    }
   ],
   "source": [
    "label_3\n"
   ]
  },
  {
   "cell_type": "code",
   "execution_count": 6,
   "metadata": {},
   "outputs": [
    {
     "data": {
      "text/plain": [
       "200"
      ]
     },
     "execution_count": 6,
     "metadata": {},
     "output_type": "execute_result"
    }
   ],
   "source": [
    "import requests\n",
    "r=requests.get(\"https://www.baidu.com/\")\n",
    "r.status_code"
   ]
  },
  {
   "cell_type": "code",
   "execution_count": 8,
   "metadata": {},
   "outputs": [
    {
     "data": {
      "text/plain": [
       "'ISO-8859-1'"
      ]
     },
     "execution_count": 8,
     "metadata": {},
     "output_type": "execute_result"
    }
   ],
   "source": [
    "r.encoding"
   ]
  },
  {
   "cell_type": "code",
   "execution_count": 9,
   "metadata": {},
   "outputs": [
    {
     "data": {
      "text/plain": [
       "'<!DOCTYPE html>\\r\\n<!--STATUS OK--><html> <head><meta http-equiv=content-type content=text/html;charset=utf-8><meta http-equiv=X-UA-Compatible content=I'"
      ]
     },
     "execution_count": 9,
     "metadata": {},
     "output_type": "execute_result"
    }
   ],
   "source": [
    "r.text[:150]"
   ]
  },
  {
   "cell_type": "code",
   "execution_count": 1,
   "metadata": {},
   "outputs": [
    {
     "data": {
      "text/plain": [
       "274877906944"
      ]
     },
     "execution_count": 1,
     "metadata": {},
     "output_type": "execute_result"
    }
   ],
   "source": [
    "2**38"
   ]
  },
  {
   "cell_type": "code",
   "execution_count": 1,
   "metadata": {},
   "outputs": [
    {
     "name": "stdout",
     "output_type": "stream",
     "text": [
      "i hope you didnt translate it by hand. thats what computers are for. doing it in by hand is inefficient and that's why this text is so long. using string.maketrans() is recommended. now apply on the url.\n"
     ]
    }
   ],
   "source": [
    "intab = 'abcdefghijklmnopqrstuvwxyz'\n",
    "outtab = 'cdefghijklmnopqrstuvwxyzab'\n",
    "tab = str.maketrans(intab, outtab)\n",
    "str1 = \"g fmnc wms bgblr rpylqjyrc gr zw fylb. rfyrq ufyr amknsrcpq ypc dmp. bmgle gr gl zw fylb gq glcddgagclr ylb rfyr'q ufw rfgq rcvr gq qm jmle. sqgle qrpgle.kyicrpylq() gq pcamkkclbcb. lmu ynnjw ml rfc spj.\"\n",
    "print(str1.translate(tab))\n"
   ]
  },
  {
   "cell_type": "code",
   "execution_count": 27,
   "metadata": {},
   "outputs": [],
   "source": [
    "# str1= \"g fmnc wms bgblr rpylqjyrc gr zw fylb. rfyrq ufyr amknsrcpq ypc dmp. bmgle gr gl zw fylb gq glcddgagclr ylb rfyr'q ufw rfgq rcvr gq qm jmle. sqgle qrpgle.kyicrpylq() gq pcamkkclbcb. lmu ynnjw ml rfc spj.\"\n",
    "# str2=str1.split(\" \")\n",
    "# ans=''\n",
    "# for str_ in str2:\n",
    "#     str=list(str_)\n",
    "#     for i in range(len(str)):\n",
    "#         if  str[i].isalpha():\n",
    "#             tmp = ord(str[i])+2\n",
    "#             if tmp > ord('z'):\n",
    "#                 tmp-=26\n",
    "#             str[i]=chr(tmp)\n",
    "#     ans+=''.join(str)+\" \"\n",
    "        \n",
    "           \n",
    "\n",
    "# print(ans)\n"
   ]
  },
  {
   "cell_type": "code",
   "execution_count": 1,
   "metadata": {},
   "outputs": [],
   "source": [
    "import numpy as np\n",
    "import tqdm.notebook as tqdm"
   ]
  },
  {
   "cell_type": "code",
   "execution_count": 3,
   "metadata": {},
   "outputs": [
    {
     "data": {
      "application/vnd.jupyter.widget-view+json": {
       "model_id": "f7e01533030f4785970f29bf1f8524ab",
       "version_major": 2,
       "version_minor": 0
      },
      "text/plain": [
       "  0%|          | 0/100000 [00:00<?, ?it/s]"
      ]
     },
     "metadata": {},
     "output_type": "display_data"
    },
    {
     "name": "stdout",
     "output_type": "stream",
     "text": [
      "49994\n"
     ]
    }
   ],
   "source": [
    "cnt =0 \n",
    "for _ in tqdm.trange(10_0000):\n",
    "    angles = np.random.random(4)*np.pi*2\n",
    "    angles2 = angles - (angles>np.pi)*np.pi*2\n",
    "    if(angles.max()-angles.min())<np.pi or (angles2.max()-angles2.min())<np.pi:\n",
    "        cnt+=1\n",
    "\n",
    "print(cnt)"
   ]
  },
  {
   "cell_type": "code",
   "execution_count": 3,
   "metadata": {},
   "outputs": [
    {
     "name": "stdout",
     "output_type": "stream",
     "text": [
      "[6, 28]\n"
     ]
    }
   ],
   "source": [
    "num = 100\n",
    "\n",
    "def get_child(num):\n",
    "    # 存储要返回的完数列表\n",
    "    ans=[]\n",
    "    # 循环2到n\n",
    "    for i in range(2, num):\n",
    "\n",
    "        # a存储每个i的因子列表\n",
    "        a = []\n",
    "\n",
    "        # 找到每个i的因子并放到a里面\n",
    "        for j in range(1, i):\n",
    "            if (i % j) == 0:\n",
    "                a.append(j)\n",
    "\n",
    "        # 判断当前i是不是完数，是则放到ans列表\n",
    "        if i == sum(a):\n",
    "            ans.append(i)\n",
    "    # 返回完数列表\n",
    "    return ans\n",
    "\n",
    "# 等效于\n",
    "# tmp=get_child(num)\n",
    "# print(tmp)\n",
    "print(get_child(num))\n",
    "\n",
    "\n"
   ]
  },
  {
   "cell_type": "code",
   "execution_count": 15,
   "metadata": {},
   "outputs": [
    {
     "name": "stdout",
     "output_type": "stream",
     "text": [
      "No anwser\n",
      "41\n",
      "53\n",
      "No anwser\n"
     ]
    }
   ],
   "source": [
    "while(1):\n",
    "    num=input()\n",
    "    if not num:\n",
    "        break\n",
    "    num=num.split()\n",
    "    flag=True\n",
    "    if len(num)==3 and int(num[0])<3 and int(num[1])<5 and int(num[2])<7:\n",
    "        for i in range(10,101):\n",
    "            if i%3==int(num[0]) and i%5==int(num[1]) and i%7==int(num[2]):\n",
    "                print(i)\n",
    "                flag=False\n",
    "                break\n",
    "    if not flag:\n",
    "        continue\n",
    "    print(\"No answer\")\n",
    "    continue\n",
    "\n"
   ]
  }
 ],
 "metadata": {
  "kernelspec": {
   "display_name": "Python 3.9.13 ('base')",
   "language": "python",
   "name": "python3"
  },
  "language_info": {
   "codemirror_mode": {
    "name": "ipython",
    "version": 3
   },
   "file_extension": ".py",
   "mimetype": "text/x-python",
   "name": "python",
   "nbconvert_exporter": "python",
   "pygments_lexer": "ipython3",
   "version": "3.9.13"
  },
  "orig_nbformat": 4,
  "vscode": {
   "interpreter": {
    "hash": "398282fb7620f5fd88ade154d6abf8916fb0fb3d0636779328aad3c3eaa17a1c"
   }
  }
 },
 "nbformat": 4,
 "nbformat_minor": 2
}
