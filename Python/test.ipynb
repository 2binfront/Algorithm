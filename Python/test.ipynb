{
 "cells": [
  {
   "cell_type": "markdown",
   "metadata": {},
   "source": [
    "## libs"
   ]
  },
  {
   "cell_type": "code",
   "execution_count": 6,
   "metadata": {},
   "outputs": [
    {
     "data": {
      "text/plain": [
       "200"
      ]
     },
     "execution_count": 6,
     "metadata": {},
     "output_type": "execute_result"
    }
   ],
   "source": [
    "import requests\n",
    "r=requests.get(\"https://www.baidu.com/\")\n",
    "r.status_code"
   ]
  },
  {
   "cell_type": "code",
   "execution_count": 8,
   "metadata": {},
   "outputs": [
    {
     "data": {
      "text/plain": [
       "'ISO-8859-1'"
      ]
     },
     "execution_count": 8,
     "metadata": {},
     "output_type": "execute_result"
    }
   ],
   "source": [
    "r.encoding"
   ]
  },
  {
   "cell_type": "code",
   "execution_count": 9,
   "metadata": {},
   "outputs": [
    {
     "data": {
      "text/plain": [
       "'<!DOCTYPE html>\\r\\n<!--STATUS OK--><html> <head><meta http-equiv=content-type content=text/html;charset=utf-8><meta http-equiv=X-UA-Compatible content=I'"
      ]
     },
     "execution_count": 9,
     "metadata": {},
     "output_type": "execute_result"
    }
   ],
   "source": [
    "r.text[:150]"
   ]
  },
  {
   "cell_type": "markdown",
   "metadata": {},
   "source": [
    "## python probloms"
   ]
  },
  {
   "cell_type": "code",
   "execution_count": 1,
   "metadata": {},
   "outputs": [
    {
     "data": {
      "text/plain": [
       "274877906944"
      ]
     },
     "execution_count": 1,
     "metadata": {},
     "output_type": "execute_result"
    }
   ],
   "source": [
    "2**38"
   ]
  },
  {
   "cell_type": "code",
   "execution_count": 1,
   "metadata": {},
   "outputs": [
    {
     "name": "stdout",
     "output_type": "stream",
     "text": [
      "i hope you didnt translate it by hand. thats what computers are for. doing it in by hand is inefficient and that's why this text is so long. using string.maketrans() is recommended. now apply on the url.\n"
     ]
    }
   ],
   "source": [
    "intab = 'abcdefghijklmnopqrstuvwxyz'\n",
    "outtab = 'cdefghijklmnopqrstuvwxyzab'\n",
    "tab = str.maketrans(intab, outtab)\n",
    "str1 = \"g fmnc wms bgblr rpylqjyrc gr zw fylb. rfyrq ufyr amknsrcpq ypc dmp. bmgle gr gl zw fylb gq glcddgagclr ylb rfyr'q ufw rfgq rcvr gq qm jmle. sqgle qrpgle.kyicrpylq() gq pcamkkclbcb. lmu ynnjw ml rfc spj.\"\n",
    "print(str1.translate(tab))\n"
   ]
  },
  {
   "cell_type": "code",
   "execution_count": 27,
   "metadata": {},
   "outputs": [],
   "source": [
    "# str1= \"g fmnc wms bgblr rpylqjyrc gr zw fylb. rfyrq ufyr amknsrcpq ypc dmp. bmgle gr gl zw fylb gq glcddgagclr ylb rfyr'q ufw rfgq rcvr gq qm jmle. sqgle qrpgle.kyicrpylq() gq pcamkkclbcb. lmu ynnjw ml rfc spj.\"\n",
    "# str2=str1.split(\" \")\n",
    "# ans=''\n",
    "# for str_ in str2:\n",
    "#     str=list(str_)\n",
    "#     for i in range(len(str)):\n",
    "#         if  str[i].isalpha():\n",
    "#             tmp = ord(str[i])+2\n",
    "#             if tmp > ord('z'):\n",
    "#                 tmp-=26\n",
    "#             str[i]=chr(tmp)\n",
    "#     ans+=''.join(str)+\" \"\n",
    "\n",
    "# print(ans)\n"
   ]
  },
  {
   "cell_type": "code",
   "execution_count": 1,
   "metadata": {},
   "outputs": [],
   "source": [
    "import numpy as np\n",
    "import tqdm.notebook as tqdm"
   ]
  },
  {
   "cell_type": "code",
   "execution_count": 3,
   "metadata": {},
   "outputs": [
    {
     "data": {
      "application/vnd.jupyter.widget-view+json": {
       "model_id": "f7e01533030f4785970f29bf1f8524ab",
       "version_major": 2,
       "version_minor": 0
      },
      "text/plain": [
       "  0%|          | 0/100000 [00:00<?, ?it/s]"
      ]
     },
     "metadata": {},
     "output_type": "display_data"
    },
    {
     "name": "stdout",
     "output_type": "stream",
     "text": [
      "49994\n"
     ]
    }
   ],
   "source": [
    "cnt =0 \n",
    "for _ in tqdm.trange(10_0000):\n",
    "    angles = np.random.random(4)*np.pi*2\n",
    "    angles2 = angles - (angles>np.pi)*np.pi*2\n",
    "    if(angles.max()-angles.min())<np.pi or (angles2.max()-angles2.min())<np.pi:\n",
    "        cnt+=1\n",
    "\n",
    "print(cnt)"
   ]
  },
  {
   "cell_type": "markdown",
   "metadata": {},
   "source": [
    "## tricks"
   ]
  },
  {
   "cell_type": "code",
   "execution_count": 3,
   "metadata": {},
   "outputs": [
    {
     "name": "stdout",
     "output_type": "stream",
     "text": [
      "[6, 28]\n"
     ]
    }
   ],
   "source": [
    "num = 100\n",
    "\n",
    "def get_child(num):\n",
    "    # 存储要返回的完数列表\n",
    "    ans=[]\n",
    "    # 循环2到n\n",
    "    for i in range(2, num):\n",
    "\n",
    "        # a存储每个i的因子列表\n",
    "        a = []\n",
    "\n",
    "        # 找到每个i的因子并放到a里面\n",
    "        for j in range(1, i):\n",
    "            if (i % j) == 0:\n",
    "                a.append(j)\n",
    "\n",
    "        # 判断当前i是不是完数，是则放到ans列表\n",
    "        if i == sum(a):\n",
    "            ans.append(i)\n",
    "    # 返回完数列表\n",
    "    return ans\n",
    "\n",
    "# 等效于\n",
    "# tmp=get_child(num)\n",
    "# print(tmp)\n",
    "print(get_child(num))\n",
    "\n",
    "\n"
   ]
  },
  {
   "cell_type": "code",
   "execution_count": 15,
   "metadata": {},
   "outputs": [
    {
     "name": "stdout",
     "output_type": "stream",
     "text": [
      "No anwser\n",
      "41\n",
      "53\n",
      "No anwser\n"
     ]
    }
   ],
   "source": [
    "while(1):\n",
    "    num=input()\n",
    "    if not num:\n",
    "        break\n",
    "    num=num.split()\n",
    "    flag=True\n",
    "    if len(num)==3 and int(num[0])<3 and int(num[1])<5 and int(num[2])<7:\n",
    "        for i in range(10,101):\n",
    "            if i%3==int(num[0]) and i%5==int(num[1]) and i%7==int(num[2]):\n",
    "                print(i)\n",
    "                flag=False\n",
    "                break\n",
    "    if not flag:\n",
    "        continue\n",
    "    print(\"No answer\")\n",
    "    continue\n",
    "\n"
   ]
  },
  {
   "cell_type": "code",
   "execution_count": 2,
   "metadata": {},
   "outputs": [
    {
     "name": "stdout",
     "output_type": "stream",
     "text": [
      "1,2,3,4,5,6,7,8,9,10\n",
      "11"
     ]
    }
   ],
   "source": [
    "# output a list with a format : each line at most 10 elements, separated by ',' , the last one end with nothing\n",
    "list_tmp=[1,2,3,4,5,6,7,8,9,10,11]\n",
    "for i in range(len(list_tmp)):\n",
    "    if (i+1) %10==0:\n",
    "        if i==len(list_tmp)-1:\n",
    "            print(list_tmp[i],end='')\n",
    "        else:\n",
    "            print(list_tmp[i],end='\\n')\n",
    "    else:\n",
    "        if i==len(list_tmp)-1:\n",
    "            print(list_tmp[i],end='')\n",
    "        else:\n",
    "            print(list_tmp[i],end=',')"
   ]
  }
 ],
 "metadata": {
  "kernelspec": {
   "display_name": "Python 3.9.13 ('base')",
   "language": "python",
   "name": "python3"
  },
  "language_info": {
   "codemirror_mode": {
    "name": "ipython",
    "version": 3
   },
   "file_extension": ".py",
   "mimetype": "text/x-python",
   "name": "python",
   "nbconvert_exporter": "python",
   "pygments_lexer": "ipython3",
   "version": "3.9.13"
  },
  "orig_nbformat": 4,
  "vscode": {
   "interpreter": {
    "hash": "398282fb7620f5fd88ade154d6abf8916fb0fb3d0636779328aad3c3eaa17a1c"
   }
  }
 },
 "nbformat": 4,
 "nbformat_minor": 2
}
